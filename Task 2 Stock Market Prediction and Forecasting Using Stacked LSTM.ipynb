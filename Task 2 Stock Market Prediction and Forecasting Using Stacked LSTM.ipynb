{
 "cells": [
  {
   "cell_type": "markdown",
   "metadata": {},
   "source": [
    "#                 LETS GROW MORE - DATA SCIENCE INTERNSHIP"
   ]
  },
  {
   "cell_type": "markdown",
   "metadata": {},
   "source": [
    "# TASK 2 - STOCK MARKET PREDICTION AND FORECASTING USING STACKED LSTM"
   ]
  },
  {
   "cell_type": "markdown",
   "metadata": {},
   "source": [
    "### AUTHOR - Amitabh Kumar Vishwakarma"
   ]
  },
  {
   "cell_type": "markdown",
   "metadata": {},
   "source": [
    "### Importing necessary libraries"
   ]
  },
  {
   "cell_type": "code",
   "execution_count": 1,
   "metadata": {
    "id": "u5Om2j_ik6F2"
   },
   "outputs": [],
   "source": [
    "import numpy as np\n",
    "import matplotlib.pyplot as plt\n",
    "import pandas as pd"
   ]
  },
  {
   "cell_type": "code",
   "execution_count": 2,
   "metadata": {
    "id": "yNlF1eS7lLPR"
   },
   "outputs": [],
   "source": [
    "url = \"https://raw.githubusercontent.com/mwitiderrick/stockprice/master/NSE-TATAGLOBAL.csv\"\n",
    "dataset_train = pd.read_csv(url)\n",
    "training_set = dataset_train.iloc[:, 1:2].values"
   ]
  },
  {
   "cell_type": "code",
   "execution_count": 3,
   "metadata": {
    "colab": {
     "base_uri": "https://localhost:8080/",
     "height": 206
    },
    "id": "qNE8C4eilrHh",
    "outputId": "22256a6f-7952-4003-d109-30e782c30718"
   },
   "outputs": [
    {
     "data": {
      "text/html": [
       "<div>\n",
       "<style scoped>\n",
       "    .dataframe tbody tr th:only-of-type {\n",
       "        vertical-align: middle;\n",
       "    }\n",
       "\n",
       "    .dataframe tbody tr th {\n",
       "        vertical-align: top;\n",
       "    }\n",
       "\n",
       "    .dataframe thead th {\n",
       "        text-align: right;\n",
       "    }\n",
       "</style>\n",
       "<table border=\"1\" class=\"dataframe\">\n",
       "  <thead>\n",
       "    <tr style=\"text-align: right;\">\n",
       "      <th></th>\n",
       "      <th>Date</th>\n",
       "      <th>Open</th>\n",
       "      <th>High</th>\n",
       "      <th>Low</th>\n",
       "      <th>Last</th>\n",
       "      <th>Close</th>\n",
       "      <th>Total Trade Quantity</th>\n",
       "      <th>Turnover (Lacs)</th>\n",
       "    </tr>\n",
       "  </thead>\n",
       "  <tbody>\n",
       "    <tr>\n",
       "      <th>0</th>\n",
       "      <td>2018-09-28</td>\n",
       "      <td>234.05</td>\n",
       "      <td>235.95</td>\n",
       "      <td>230.20</td>\n",
       "      <td>233.50</td>\n",
       "      <td>233.75</td>\n",
       "      <td>3069914</td>\n",
       "      <td>7162.35</td>\n",
       "    </tr>\n",
       "    <tr>\n",
       "      <th>1</th>\n",
       "      <td>2018-09-27</td>\n",
       "      <td>234.55</td>\n",
       "      <td>236.80</td>\n",
       "      <td>231.10</td>\n",
       "      <td>233.80</td>\n",
       "      <td>233.25</td>\n",
       "      <td>5082859</td>\n",
       "      <td>11859.95</td>\n",
       "    </tr>\n",
       "    <tr>\n",
       "      <th>2</th>\n",
       "      <td>2018-09-26</td>\n",
       "      <td>240.00</td>\n",
       "      <td>240.00</td>\n",
       "      <td>232.50</td>\n",
       "      <td>235.00</td>\n",
       "      <td>234.25</td>\n",
       "      <td>2240909</td>\n",
       "      <td>5248.60</td>\n",
       "    </tr>\n",
       "    <tr>\n",
       "      <th>3</th>\n",
       "      <td>2018-09-25</td>\n",
       "      <td>233.30</td>\n",
       "      <td>236.75</td>\n",
       "      <td>232.00</td>\n",
       "      <td>236.25</td>\n",
       "      <td>236.10</td>\n",
       "      <td>2349368</td>\n",
       "      <td>5503.90</td>\n",
       "    </tr>\n",
       "    <tr>\n",
       "      <th>4</th>\n",
       "      <td>2018-09-24</td>\n",
       "      <td>233.55</td>\n",
       "      <td>239.20</td>\n",
       "      <td>230.75</td>\n",
       "      <td>234.00</td>\n",
       "      <td>233.30</td>\n",
       "      <td>3423509</td>\n",
       "      <td>7999.55</td>\n",
       "    </tr>\n",
       "  </tbody>\n",
       "</table>\n",
       "</div>"
      ],
      "text/plain": [
       "         Date    Open    High  ...   Close  Total Trade Quantity  Turnover (Lacs)\n",
       "0  2018-09-28  234.05  235.95  ...  233.75               3069914          7162.35\n",
       "1  2018-09-27  234.55  236.80  ...  233.25               5082859         11859.95\n",
       "2  2018-09-26  240.00  240.00  ...  234.25               2240909          5248.60\n",
       "3  2018-09-25  233.30  236.75  ...  236.10               2349368          5503.90\n",
       "4  2018-09-24  233.55  239.20  ...  233.30               3423509          7999.55\n",
       "\n",
       "[5 rows x 8 columns]"
      ]
     },
     "execution_count": 3,
     "metadata": {},
     "output_type": "execute_result"
    }
   ],
   "source": [
    "dataset_train.head()"
   ]
  },
  {
   "cell_type": "code",
   "execution_count": 4,
   "metadata": {
    "id": "8qSiLHXFlum3"
   },
   "outputs": [],
   "source": [
    "data_close = dataset_train['Close']"
   ]
  },
  {
   "cell_type": "code",
   "execution_count": 5,
   "metadata": {
    "colab": {
     "base_uri": "https://localhost:8080/"
    },
    "id": "bziW8dzal2Iw",
    "outputId": "7f6980b0-619f-4b8c-c20d-78199c675408"
   },
   "outputs": [
    {
     "data": {
      "text/plain": [
       "0       233.75\n",
       "1       233.25\n",
       "2       234.25\n",
       "3       236.10\n",
       "4       233.30\n",
       "         ...  \n",
       "2030    118.65\n",
       "2031    117.60\n",
       "2032    120.65\n",
       "2033    120.90\n",
       "2034    121.55\n",
       "Name: Close, Length: 2035, dtype: float64"
      ]
     },
     "execution_count": 5,
     "metadata": {},
     "output_type": "execute_result"
    }
   ],
   "source": [
    "data_close"
   ]
  },
  {
   "cell_type": "code",
   "execution_count": 6,
   "metadata": {
    "colab": {
     "base_uri": "https://localhost:8080/",
     "height": 282
    },
    "id": "2FhiRHcdl3-v",
    "outputId": "e23afebe-2fdb-4a6e-f925-6dbac9c3a145"
   },
   "outputs": [
    {
     "data": {
      "text/plain": [
       "[<matplotlib.lines.Line2D at 0x7fcdbe504fd0>]"
      ]
     },
     "execution_count": 6,
     "metadata": {},
     "output_type": "execute_result"
    },
    {
     "data": {
      "image/png": "[encoded data removed]",
      "text/plain": [
       "<Figure size 432x288 with 1 Axes>"
      ]
     },
     "metadata": {
      "needs_background": "light"
     },
     "output_type": "display_data"
    }
   ],
   "source": [
    "plt.plot(data_close)"
   ]
  },
  {
   "cell_type": "markdown",
   "metadata": {
    "id": "3pmKjrihmxa_"
   },
   "source": [
    "As LSTM are sensitive to scale of data,hence we apply MinMax Scaler to transform values from 0 to 1"
   ]
  },
  {
   "cell_type": "markdown",
   "metadata": {},
   "source": [
    "### Data Normalization"
   ]
  },
  {
   "cell_type": "code",
   "execution_count": 7,
   "metadata": {
    "id": "377D-Mzwm5bo"
   },
   "outputs": [],
   "source": [
    "from sklearn.preprocessing import MinMaxScaler\n",
    "scaler = MinMaxScaler(feature_range =(0,1))\n",
    "data_close = scaler.fit_transform(np.array(data_close).reshape(-1,1)) "
   ]
  },
  {
   "cell_type": "code",
   "execution_count": 8,
   "metadata": {
    "colab": {
     "base_uri": "https://localhost:8080/"
    },
    "id": "ocN_fgPVnXz1",
    "outputId": "41a26d12-8fdf-41e6-d776-4a794cedde16"
   },
   "outputs": [
    {
     "data": {
      "text/plain": [
       "(2035, 1)"
      ]
     },
     "execution_count": 8,
     "metadata": {},
     "output_type": "execute_result"
    }
   ],
   "source": [
    "data_close.shape"
   ]
  },
  {
   "cell_type": "code",
   "execution_count": 9,
   "metadata": {
    "colab": {
     "base_uri": "https://localhost:8080/"
    },
    "id": "lRHM0Di1nbMZ",
    "outputId": "b82f52f9-2bc6-461d-d7e8-0cbd165d304b"
   },
   "outputs": [
    {
     "name": "stdout",
     "output_type": "stream",
     "text": [
      "[[0.62418301]\n",
      " [0.62214052]\n",
      " [0.62622549]\n",
      " ...\n",
      " [0.1621732 ]\n",
      " [0.16319444]\n",
      " [0.16584967]]\n"
     ]
    }
   ],
   "source": [
    "print(data_close)"
   ]
  },
  {
   "cell_type": "markdown",
   "metadata": {},
   "source": [
    "### Train And Test Split"
   ]
  },
  {
   "cell_type": "code",
   "execution_count": 11,
   "metadata": {
    "id": "Wmcu41EuneJ-"
   },
   "outputs": [],
   "source": [
    "training_size = int(len(data_close) * 0.75)\n",
    "test_size = len(data_close) - training_size\n",
    "train_data, test_data = data_close[0:training_size,:], data_close[training_size:len(data_close),:1]"
   ]
  },
  {
   "cell_type": "code",
   "execution_count": 12,
   "metadata": {
    "id": "m_HDSv3QoI_v"
   },
   "outputs": [],
   "source": [
    "def create_dataset(dataset, time_step = 1):\n",
    "  dataX, dataY = [], []\n",
    "  for i in range(len(dataset) - time_step - 1):\n",
    "    a = dataset[i:(i+time_step), 0]\n",
    "    dataX.append(a)\n",
    "    dataY.append(dataset[i+time_step, 0])\n",
    "  return np.array(dataX), np.array(dataY)"
   ]
  },
  {
   "cell_type": "code",
   "execution_count": 13,
   "metadata": {
    "id": "r4eDBF8ypNq1"
   },
   "outputs": [],
   "source": [
    "time_step = 100\n",
    "x_train, y_train = create_dataset(train_data, time_step)\n",
    "x_test, y_test = create_dataset(test_data, time_step)"
   ]
  },
  {
   "cell_type": "code",
   "execution_count": 14,
   "metadata": {
    "id": "AuEzrZj0psbp"
   },
   "outputs": [],
   "source": [
    "#Reshaping the input to be [features,time steps, samples] that is requirement of LSTM\n",
    "x_train = x_train.reshape(x_train.shape[0], x_train.shape[1], 1)\n",
    "x_test = x_test.reshape(x_test.shape[0], x_test.shape[1], 1)"
   ]
  },
  {
   "cell_type": "markdown",
   "metadata": {},
   "source": [
    "### Creating Model"
   ]
  },
  {
   "cell_type": "code",
   "execution_count": 15,
   "metadata": {
    "id": "Odq1JH1GqldY"
   },
   "outputs": [],
   "source": [
    "#Create LSTM model\n",
    "from keras.models import Sequential\n",
    "from keras.layers import LSTM\n",
    "from keras.layers import Dropout\n",
    "from keras.layers import Dense\n",
    "model = Sequential()\n",
    "model.add(LSTM(50, return_sequences = True, input_shape = (100,1)))\n",
    "model.add(LSTM(50, return_sequences = True))\n",
    "model.add(LSTM(50))\n",
    "model.add(Dense(1))\n",
    "model.compile(loss = 'mean_squared_error', optimizer= 'adam')"
   ]
  },
  {
   "cell_type": "code",
   "execution_count": 16,
   "metadata": {
    "colab": {
     "base_uri": "https://localhost:8080/"
    },
    "id": "gQWbk4UksHyk",
    "outputId": "9970e5e5-46c2-4989-c636-dabde6578b32"
   },
   "outputs": [
    {
     "name": "stdout",
     "output_type": "stream",
     "text": [
      "Model: \"sequential\"\n",
      "_________________________________________________________________\n",
      " Layer (type)                Output Shape              Param #   \n",
      "=================================================================\n",
      " lstm (LSTM)                 (None, 100, 50)           10400     \n",
      "                                                                 \n",
      " lstm_1 (LSTM)               (None, 100, 50)           20200     \n",
      "                                                                 \n",
      " lstm_2 (LSTM)               (None, 50)                20200     \n",
      "                                                                 \n",
      " dense (Dense)               (None, 1)                 51        \n",
      "                                                                 \n",
      "=================================================================\n",
      "Total params: 50,851\n",
      "Trainable params: 50,851\n",
      "Non-trainable params: 0\n",
      "_________________________________________________________________\n"
     ]
    }
   ],
   "source": [
    "model.summary()"
   ]
  },
  {
   "cell_type": "markdown",
   "metadata": {},
   "source": [
    "### Training the Model "
   ]
  },
  {
   "cell_type": "code",
   "execution_count": 17,
   "metadata": {
    "colab": {
     "base_uri": "https://localhost:8080/"
    },
    "id": "1WBhsezWsK-j",
    "outputId": "ecf10e95-359e-4107-8d1d-b0da83805a71"
   },
   "outputs": [
    {
     "name": "stdout",
     "output_type": "stream",
     "text": [
      "Epoch 1/100\n",
      "23/23 [==============================] - 13s 271ms/step - loss: 0.0189 - val_loss: 0.0050\n",
      "Epoch 2/100\n",
      "23/23 [==============================] - 5s 207ms/step - loss: 0.0021 - val_loss: 8.5756e-04\n",
      "Epoch 3/100\n",
      "23/23 [==============================] - 5s 205ms/step - loss: 0.0016 - val_loss: 0.0011\n",
      "Epoch 4/100\n",
      "23/23 [==============================] - 5s 210ms/step - loss: 0.0016 - val_loss: 0.0010\n",
      "Epoch 5/100\n",
      "23/23 [==============================] - 5s 205ms/step - loss: 0.0014 - val_loss: 0.0012\n",
      "Epoch 6/100\n",
      "23/23 [==============================] - 5s 206ms/step - loss: 0.0014 - val_loss: 0.0012\n",
      "Epoch 7/100\n",
      "23/23 [==============================] - 5s 204ms/step - loss: 0.0012 - val_loss: 0.0012\n",
      "Epoch 8/100\n",
      "23/23 [==============================] - 5s 208ms/step - loss: 0.0011 - val_loss: 8.6812e-04\n",
      "Epoch 9/100\n",
      "23/23 [==============================] - 5s 203ms/step - loss: 0.0011 - val_loss: 9.4494e-04\n",
      "Epoch 10/100\n",
      "23/23 [==============================] - 5s 206ms/step - loss: 0.0013 - val_loss: 8.2283e-04\n",
      "Epoch 11/100\n",
      "23/23 [==============================] - 5s 205ms/step - loss: 0.0012 - val_loss: 9.5682e-04\n",
      "Epoch 12/100\n",
      "23/23 [==============================] - 5s 205ms/step - loss: 0.0011 - val_loss: 8.6546e-04\n",
      "Epoch 13/100\n",
      "23/23 [==============================] - 5s 207ms/step - loss: 9.3475e-04 - val_loss: 9.0358e-04\n",
      "Epoch 14/100\n",
      "23/23 [==============================] - 5s 209ms/step - loss: 9.1509e-04 - val_loss: 9.1056e-04\n",
      "Epoch 15/100\n",
      "23/23 [==============================] - 5s 211ms/step - loss: 8.7318e-04 - val_loss: 6.5371e-04\n",
      "Epoch 16/100\n",
      "23/23 [==============================] - 5s 201ms/step - loss: 8.7444e-04 - val_loss: 5.7508e-04\n",
      "Epoch 17/100\n",
      "23/23 [==============================] - 5s 206ms/step - loss: 9.1924e-04 - val_loss: 8.2025e-04\n",
      "Epoch 18/100\n",
      "23/23 [==============================] - 5s 211ms/step - loss: 8.7209e-04 - val_loss: 0.0011\n",
      "Epoch 19/100\n",
      "23/23 [==============================] - 5s 214ms/step - loss: 7.8017e-04 - val_loss: 8.0108e-04\n",
      "Epoch 20/100\n",
      "23/23 [==============================] - 5s 206ms/step - loss: 7.6417e-04 - val_loss: 9.1990e-04\n",
      "Epoch 21/100\n",
      "23/23 [==============================] - 5s 207ms/step - loss: 7.6418e-04 - val_loss: 7.4114e-04\n",
      "Epoch 22/100\n",
      "23/23 [==============================] - 5s 215ms/step - loss: 7.2840e-04 - val_loss: 8.9948e-04\n",
      "Epoch 23/100\n",
      "23/23 [==============================] - 5s 211ms/step - loss: 6.8577e-04 - val_loss: 8.0612e-04\n",
      "Epoch 24/100\n",
      "23/23 [==============================] - 5s 217ms/step - loss: 7.5848e-04 - val_loss: 7.2504e-04\n",
      "Epoch 25/100\n",
      "23/23 [==============================] - 5s 224ms/step - loss: 6.6130e-04 - val_loss: 9.7300e-04\n",
      "Epoch 26/100\n",
      "23/23 [==============================] - 5s 214ms/step - loss: 6.3840e-04 - val_loss: 8.4054e-04\n",
      "Epoch 27/100\n",
      "23/23 [==============================] - 5s 219ms/step - loss: 6.2934e-04 - val_loss: 7.9692e-04\n",
      "Epoch 28/100\n",
      "23/23 [==============================] - 5s 217ms/step - loss: 6.1611e-04 - val_loss: 8.2334e-04\n",
      "Epoch 29/100\n",
      "23/23 [==============================] - 5s 216ms/step - loss: 5.9952e-04 - val_loss: 6.1160e-04\n",
      "Epoch 30/100\n",
      "23/23 [==============================] - 5s 214ms/step - loss: 7.4675e-04 - val_loss: 7.1951e-04\n",
      "Epoch 31/100\n",
      "23/23 [==============================] - 5s 229ms/step - loss: 7.1437e-04 - val_loss: 5.3675e-04\n",
      "Epoch 32/100\n",
      "23/23 [==============================] - 5s 209ms/step - loss: 7.9771e-04 - val_loss: 6.9572e-04\n",
      "Epoch 33/100\n",
      "23/23 [==============================] - 5s 214ms/step - loss: 5.3232e-04 - val_loss: 7.1379e-04\n",
      "Epoch 34/100\n",
      "23/23 [==============================] - 5s 215ms/step - loss: 5.5901e-04 - val_loss: 6.9280e-04\n",
      "Epoch 35/100\n",
      "23/23 [==============================] - 5s 208ms/step - loss: 5.0206e-04 - val_loss: 6.2909e-04\n",
      "Epoch 36/100\n",
      "23/23 [==============================] - 5s 204ms/step - loss: 5.0216e-04 - val_loss: 5.8244e-04\n",
      "Epoch 37/100\n",
      "23/23 [==============================] - 5s 202ms/step - loss: 4.6205e-04 - val_loss: 5.0726e-04\n",
      "Epoch 38/100\n",
      "23/23 [==============================] - 5s 209ms/step - loss: 5.2662e-04 - val_loss: 4.9837e-04\n",
      "Epoch 39/100\n",
      "23/23 [==============================] - 5s 209ms/step - loss: 4.6429e-04 - val_loss: 5.2810e-04\n",
      "Epoch 40/100\n",
      "23/23 [==============================] - 5s 207ms/step - loss: 4.7956e-04 - val_loss: 4.5374e-04\n",
      "Epoch 41/100\n",
      "23/23 [==============================] - 5s 208ms/step - loss: 5.3605e-04 - val_loss: 4.2443e-04\n",
      "Epoch 42/100\n",
      "23/23 [==============================] - 5s 212ms/step - loss: 4.3399e-04 - val_loss: 3.5843e-04\n",
      "Epoch 43/100\n",
      "23/23 [==============================] - 5s 212ms/step - loss: 4.4241e-04 - val_loss: 3.7265e-04\n",
      "Epoch 44/100\n",
      "23/23 [==============================] - 5s 211ms/step - loss: 3.8596e-04 - val_loss: 5.0755e-04\n",
      "Epoch 45/100\n",
      "23/23 [==============================] - 5s 207ms/step - loss: 3.9012e-04 - val_loss: 5.6592e-04\n",
      "Epoch 46/100\n",
      "23/23 [==============================] - 5s 222ms/step - loss: 3.8507e-04 - val_loss: 3.4284e-04\n",
      "Epoch 47/100\n",
      "23/23 [==============================] - 5s 215ms/step - loss: 3.2557e-04 - val_loss: 4.2770e-04\n",
      "Epoch 48/100\n",
      "23/23 [==============================] - 5s 232ms/step - loss: 3.4235e-04 - val_loss: 4.1508e-04\n",
      "Epoch 49/100\n",
      "23/23 [==============================] - 5s 229ms/step - loss: 3.3680e-04 - val_loss: 3.6584e-04\n",
      "Epoch 50/100\n",
      "23/23 [==============================] - 5s 213ms/step - loss: 3.5958e-04 - val_loss: 3.9119e-04\n",
      "Epoch 51/100\n",
      "23/23 [==============================] - 5s 209ms/step - loss: 3.0288e-04 - val_loss: 4.2143e-04\n",
      "Epoch 52/100\n",
      "23/23 [==============================] - 5s 212ms/step - loss: 2.9570e-04 - val_loss: 3.8836e-04\n",
      "Epoch 53/100\n",
      "23/23 [==============================] - 5s 206ms/step - loss: 2.7842e-04 - val_loss: 2.9406e-04\n",
      "Epoch 54/100\n",
      "23/23 [==============================] - 5s 206ms/step - loss: 3.1471e-04 - val_loss: 2.9356e-04\n",
      "Epoch 55/100\n",
      "23/23 [==============================] - 5s 207ms/step - loss: 2.9685e-04 - val_loss: 2.8045e-04\n",
      "Epoch 56/100\n",
      "23/23 [==============================] - 5s 209ms/step - loss: 2.7720e-04 - val_loss: 3.0226e-04\n",
      "Epoch 57/100\n",
      "23/23 [==============================] - 5s 201ms/step - loss: 2.7714e-04 - val_loss: 3.2109e-04\n",
      "Epoch 58/100\n",
      "23/23 [==============================] - 5s 204ms/step - loss: 3.5096e-04 - val_loss: 2.1056e-04\n",
      "Epoch 59/100\n",
      "23/23 [==============================] - 5s 207ms/step - loss: 2.9773e-04 - val_loss: 2.7143e-04\n",
      "Epoch 60/100\n",
      "23/23 [==============================] - 5s 215ms/step - loss: 2.9632e-04 - val_loss: 2.5736e-04\n",
      "Epoch 61/100\n",
      "23/23 [==============================] - 5s 213ms/step - loss: 2.9620e-04 - val_loss: 2.3345e-04\n",
      "Epoch 62/100\n",
      "23/23 [==============================] - 5s 216ms/step - loss: 2.4765e-04 - val_loss: 2.2648e-04\n",
      "Epoch 63/100\n",
      "23/23 [==============================] - 5s 207ms/step - loss: 2.4174e-04 - val_loss: 2.0946e-04\n",
      "Epoch 64/100\n",
      "23/23 [==============================] - 5s 222ms/step - loss: 2.3621e-04 - val_loss: 2.8680e-04\n",
      "Epoch 65/100\n",
      "23/23 [==============================] - 5s 219ms/step - loss: 2.4500e-04 - val_loss: 2.0248e-04\n",
      "Epoch 66/100\n",
      "23/23 [==============================] - 5s 219ms/step - loss: 2.4296e-04 - val_loss: 2.4418e-04\n",
      "Epoch 67/100\n",
      "23/23 [==============================] - 5s 229ms/step - loss: 2.8713e-04 - val_loss: 2.6155e-04\n",
      "Epoch 68/100\n",
      "23/23 [==============================] - 5s 222ms/step - loss: 2.5792e-04 - val_loss: 1.9557e-04\n",
      "Epoch 69/100\n",
      "23/23 [==============================] - 5s 216ms/step - loss: 2.5529e-04 - val_loss: 2.6419e-04\n",
      "Epoch 70/100\n",
      "23/23 [==============================] - 5s 208ms/step - loss: 2.5903e-04 - val_loss: 2.3506e-04\n",
      "Epoch 71/100\n",
      "23/23 [==============================] - 5s 211ms/step - loss: 2.5102e-04 - val_loss: 1.8365e-04\n",
      "Epoch 72/100\n",
      "23/23 [==============================] - 5s 212ms/step - loss: 2.4261e-04 - val_loss: 2.2173e-04\n",
      "Epoch 73/100\n",
      "23/23 [==============================] - 5s 213ms/step - loss: 2.2438e-04 - val_loss: 1.8515e-04\n",
      "Epoch 74/100\n",
      "23/23 [==============================] - 5s 205ms/step - loss: 2.4717e-04 - val_loss: 2.8360e-04\n",
      "Epoch 75/100\n",
      "23/23 [==============================] - 5s 208ms/step - loss: 2.5103e-04 - val_loss: 2.2644e-04\n",
      "Epoch 76/100\n",
      "23/23 [==============================] - 5s 206ms/step - loss: 2.7495e-04 - val_loss: 2.4864e-04\n",
      "Epoch 77/100\n",
      "23/23 [==============================] - 5s 207ms/step - loss: 2.4376e-04 - val_loss: 1.9904e-04\n",
      "Epoch 78/100\n",
      "23/23 [==============================] - 5s 208ms/step - loss: 2.4092e-04 - val_loss: 2.3507e-04\n",
      "Epoch 79/100\n",
      "23/23 [==============================] - 5s 212ms/step - loss: 2.1556e-04 - val_loss: 2.1064e-04\n",
      "Epoch 80/100\n",
      "23/23 [==============================] - 5s 220ms/step - loss: 2.2140e-04 - val_loss: 1.6647e-04\n",
      "Epoch 81/100\n",
      "23/23 [==============================] - 5s 207ms/step - loss: 2.0973e-04 - val_loss: 2.1313e-04\n",
      "Epoch 82/100\n",
      "23/23 [==============================] - 5s 208ms/step - loss: 2.0803e-04 - val_loss: 1.9629e-04\n",
      "Epoch 83/100\n",
      "23/23 [==============================] - 5s 202ms/step - loss: 2.8397e-04 - val_loss: 2.2709e-04\n",
      "Epoch 84/100\n",
      "23/23 [==============================] - 5s 205ms/step - loss: 2.6467e-04 - val_loss: 1.7187e-04\n",
      "Epoch 85/100\n",
      "23/23 [==============================] - 5s 205ms/step - loss: 2.6159e-04 - val_loss: 3.0706e-04\n",
      "Epoch 86/100\n",
      "23/23 [==============================] - 5s 206ms/step - loss: 2.4813e-04 - val_loss: 1.5783e-04\n",
      "Epoch 87/100\n",
      "23/23 [==============================] - 5s 216ms/step - loss: 2.3283e-04 - val_loss: 2.4581e-04\n",
      "Epoch 88/100\n",
      "23/23 [==============================] - 5s 210ms/step - loss: 2.1274e-04 - val_loss: 2.2898e-04\n",
      "Epoch 89/100\n",
      "23/23 [==============================] - 5s 211ms/step - loss: 2.1494e-04 - val_loss: 1.7572e-04\n",
      "Epoch 90/100\n",
      "23/23 [==============================] - 5s 210ms/step - loss: 2.1117e-04 - val_loss: 1.7346e-04\n",
      "Epoch 91/100\n",
      "23/23 [==============================] - 5s 216ms/step - loss: 2.1145e-04 - val_loss: 2.3304e-04\n",
      "Epoch 92/100\n",
      "23/23 [==============================] - 5s 224ms/step - loss: 2.0731e-04 - val_loss: 2.1023e-04\n",
      "Epoch 93/100\n",
      "23/23 [==============================] - 5s 218ms/step - loss: 2.4138e-04 - val_loss: 1.5510e-04\n",
      "Epoch 94/100\n",
      "23/23 [==============================] - 5s 213ms/step - loss: 2.4627e-04 - val_loss: 1.9544e-04\n",
      "Epoch 95/100\n",
      "23/23 [==============================] - 5s 212ms/step - loss: 2.3184e-04 - val_loss: 2.0068e-04\n",
      "Epoch 96/100\n",
      "23/23 [==============================] - 5s 214ms/step - loss: 3.5851e-04 - val_loss: 1.6773e-04\n",
      "Epoch 97/100\n",
      "23/23 [==============================] - 5s 212ms/step - loss: 2.3598e-04 - val_loss: 1.4008e-04\n",
      "Epoch 98/100\n",
      "23/23 [==============================] - 5s 208ms/step - loss: 2.4810e-04 - val_loss: 2.8764e-04\n",
      "Epoch 99/100\n",
      "23/23 [==============================] - 5s 215ms/step - loss: 2.3910e-04 - val_loss: 2.5918e-04\n",
      "Epoch 100/100\n",
      "23/23 [==============================] - 5s 204ms/step - loss: 2.2009e-04 - val_loss: 2.1450e-04\n"
     ]
    },
    {
     "data": {
      "text/plain": [
       "<keras.callbacks.History at 0x7fcd44ba4dd0>"
      ]
     },
     "execution_count": 17,
     "metadata": {},
     "output_type": "execute_result"
    }
   ],
   "source": [
    "model.fit(x_train, y_train, validation_data = (x_test, y_test), epochs = 100, batch_size = 64, verbose = 1)"
   ]
  },
  {
   "cell_type": "code",
   "execution_count": 18,
   "metadata": {
    "id": "VBXlf5FGsoh9"
   },
   "outputs": [],
   "source": [
    "#Lets predict and check metrics of performance\n",
    "train_predict = model.predict(x_train)\n",
    "test_predict = model.predict(x_test)"
   ]
  },
  {
   "cell_type": "code",
   "execution_count": 19,
   "metadata": {
    "id": "xmInMSS2u9jH"
   },
   "outputs": [],
   "source": [
    "#Transforming back to the original form\n",
    "train_predict = scaler.inverse_transform(train_predict)\n",
    "test_predict = scaler.inverse_transform(test_predict)"
   ]
  },
  {
   "cell_type": "code",
   "execution_count": 20,
   "metadata": {
    "colab": {
     "base_uri": "https://localhost:8080/"
    },
    "id": "10aEFHZnvWpG",
    "outputId": "fb0ba608-240a-4ef7-a961-6275ed6f1571"
   },
   "outputs": [
    {
     "data": {
      "text/plain": [
       "163.0008554451376"
      ]
     },
     "execution_count": 20,
     "metadata": {},
     "output_type": "execute_result"
    }
   ],
   "source": [
    "#Calculate RMSE performance metrics\n",
    "import math\n",
    "from sklearn.metrics import mean_squared_error\n",
    "math.sqrt(mean_squared_error(y_train, train_predict))"
   ]
  },
  {
   "cell_type": "code",
   "execution_count": 22,
   "metadata": {
    "colab": {
     "base_uri": "https://localhost:8080/"
    },
    "id": "OhB_L-zgvxMr",
    "outputId": "c081cf14-9af5-4299-c602-54c85e78f209"
   },
   "outputs": [
    {
     "data": {
      "text/plain": [
       "106.33726706582483"
      ]
     },
     "execution_count": 22,
     "metadata": {},
     "output_type": "execute_result"
    }
   ],
   "source": [
    "#Test Data RMSE\n",
    "math.sqrt(mean_squared_error(y_test, test_predict))"
   ]
  },
  {
   "cell_type": "markdown",
   "metadata": {},
   "source": [
    "### Plotting the model"
   ]
  },
  {
   "cell_type": "code",
   "execution_count": 26,
   "metadata": {
    "colab": {
     "base_uri": "https://localhost:8080/",
     "height": 265
    },
    "id": "7aTEE-qDwCvJ",
    "outputId": "ac7d000b-cad1-4035-9211-d5c5e4584ccb"
   },
   "outputs": [
    {
     "data": {
      "image/png": "[encoded data removed]",
      "text/plain": [
       "<Figure size 432x288 with 1 Axes>"
      ]
     },
     "metadata": {
      "needs_background": "light"
     },
     "output_type": "display_data"
    }
   ],
   "source": [
    "#Plotting\n",
    "\n",
    "#Shift train prediction for plotting\n",
    "look_back = 100\n",
    "trainPredictPlot = np.empty_like(data_close)\n",
    "trainPredictPlot[:,:] = np.nan\n",
    "trainPredictPlot[look_back:len(train_predict) + look_back, :] = train_predict\n",
    "\n",
    "#Shift train prediction for plotting\n",
    "testPredictPlot = np.empty_like(data_close)\n",
    "testPredictPlot[:,:] = np.nan\n",
    "testPredictPlot[len(train_predict) + (look_back * 2)+1:len(data_close) - 1, :] = test_predict\n",
    "\n",
    "#Plot baseline and predictions\n",
    "plt.plot(scaler.inverse_transform(data_close))\n",
    "plt.plot(trainPredictPlot)\n",
    "plt.plot(testPredictPlot)\n",
    "plt.show()\n",
    "\n"
   ]
  },
  {
   "cell_type": "markdown",
   "metadata": {},
   "source": [
    "### Predict the next 30 days of Stock Price"
   ]
  },
  {
   "cell_type": "code",
   "execution_count": 27,
   "metadata": {
    "colab": {
     "base_uri": "https://localhost:8080/"
    },
    "id": "XEhm_vYCyJKb",
    "outputId": "492fea52-c980-46b9-fe29-225cf3694041"
   },
   "outputs": [
    {
     "data": {
      "text/plain": [
       "(509, (408, 100, 1))"
      ]
     },
     "execution_count": 27,
     "metadata": {},
     "output_type": "execute_result"
    }
   ],
   "source": [
    "len(test_data), x_test.shape"
   ]
  },
  {
   "cell_type": "code",
   "execution_count": 28,
   "metadata": {
    "colab": {
     "base_uri": "https://localhost:8080/"
    },
    "id": "CI3fh8bc9Dfw",
    "outputId": "375bbc24-250e-4a1e-a0a7-2aea712402f5"
   },
   "outputs": [
    {
     "data": {
      "text/plain": [
       "(1, 100)"
      ]
     },
     "execution_count": 28,
     "metadata": {},
     "output_type": "execute_result"
    }
   ],
   "source": [
    "x_input = test_data[409:].reshape(1,-1)\n",
    "x_input.shape"
   ]
  },
  {
   "cell_type": "code",
   "execution_count": 29,
   "metadata": {
    "id": "PP7GuEIe9Wg7"
   },
   "outputs": [],
   "source": [
    "temp_input = list(x_input)\n",
    "temp_input = temp_input[0].tolist()"
   ]
  },
  {
   "cell_type": "code",
   "execution_count": 30,
   "metadata": {
    "colab": {
     "base_uri": "https://localhost:8080/"
    },
    "id": "OGiygB5o9pJR",
    "outputId": "cb56ce15-dad2-4fc1-f5a5-a76e4349b71c"
   },
   "outputs": [
    {
     "name": "stdout",
     "output_type": "stream",
     "text": [
      "[0.16858697]\n",
      "101\n",
      "1 day input [0.13848039 0.14011438 0.13888889 0.13541667 0.14011438 0.1380719\n",
      " 0.13071895 0.13071895 0.12867647 0.11846405 0.14644608 0.14808007\n",
      " 0.15910948 0.15992647 0.15788399 0.16441993 0.17892157 0.17933007\n",
      " 0.19260621 0.20812908 0.18974673 0.18055556 0.18239379 0.17708333\n",
      " 0.17810458 0.18055556 0.17810458 0.17851307 0.19607843 0.18913399\n",
      " 0.18954248 0.19403595 0.19444444 0.20200163 0.19771242 0.19934641\n",
      " 0.19873366 0.1997549  0.2128268  0.21568627 0.20445261 0.21772876\n",
      " 0.21098856 0.21425654 0.19750817 0.18811275 0.17851307 0.17381536\n",
      " 0.16033497 0.16564542 0.17116013 0.17422386 0.18035131 0.17401961\n",
      " 0.16278595 0.16973039 0.17810458 0.17034314 0.16830065 0.17279412\n",
      " 0.17544935 0.18382353 0.19138072 0.18913399 0.19097222 0.17238562\n",
      " 0.16830065 0.1693219  0.17177288 0.16156046 0.14971405 0.1503268\n",
      " 0.15196078 0.14726307 0.14501634 0.14603758 0.12479575 0.13112745\n",
      " 0.11397059 0.1190768  0.12377451 0.13562092 0.12908497 0.13459967\n",
      " 0.12806373 0.13031046 0.12724673 0.13521242 0.14522059 0.15257353\n",
      " 0.14848856 0.14338235 0.14562908 0.15236928 0.15400327 0.14971405\n",
      " 0.1621732  0.16319444 0.16584967 0.16858697]\n",
      "1 day output [[0.17120504]]\n",
      "2 day input [0.14011438 0.13888889 0.13541667 0.14011438 0.1380719  0.13071895\n",
      " 0.13071895 0.12867647 0.11846405 0.14644608 0.14808007 0.15910948\n",
      " 0.15992647 0.15788399 0.16441993 0.17892157 0.17933007 0.19260621\n",
      " 0.20812908 0.18974673 0.18055556 0.18239379 0.17708333 0.17810458\n",
      " 0.18055556 0.17810458 0.17851307 0.19607843 0.18913399 0.18954248\n",
      " 0.19403595 0.19444444 0.20200163 0.19771242 0.19934641 0.19873366\n",
      " 0.1997549  0.2128268  0.21568627 0.20445261 0.21772876 0.21098856\n",
      " 0.21425654 0.19750817 0.18811275 0.17851307 0.17381536 0.16033497\n",
      " 0.16564542 0.17116013 0.17422386 0.18035131 0.17401961 0.16278595\n",
      " 0.16973039 0.17810458 0.17034314 0.16830065 0.17279412 0.17544935\n",
      " 0.18382353 0.19138072 0.18913399 0.19097222 0.17238562 0.16830065\n",
      " 0.1693219  0.17177288 0.16156046 0.14971405 0.1503268  0.15196078\n",
      " 0.14726307 0.14501634 0.14603758 0.12479575 0.13112745 0.11397059\n",
      " 0.1190768  0.12377451 0.13562092 0.12908497 0.13459967 0.12806373\n",
      " 0.13031046 0.12724673 0.13521242 0.14522059 0.15257353 0.14848856\n",
      " 0.14338235 0.14562908 0.15236928 0.15400327 0.14971405 0.1621732\n",
      " 0.16319444 0.16584967 0.16858697 0.17120504]\n",
      "2 day output [[0.17352554]]\n",
      "3 day input [0.13888889 0.13541667 0.14011438 0.1380719  0.13071895 0.13071895\n",
      " 0.12867647 0.11846405 0.14644608 0.14808007 0.15910948 0.15992647\n",
      " 0.15788399 0.16441993 0.17892157 0.17933007 0.19260621 0.20812908\n",
      " 0.18974673 0.18055556 0.18239379 0.17708333 0.17810458 0.18055556\n",
      " 0.17810458 0.17851307 0.19607843 0.18913399 0.18954248 0.19403595\n",
      " 0.19444444 0.20200163 0.19771242 0.19934641 0.19873366 0.1997549\n",
      " 0.2128268  0.21568627 0.20445261 0.21772876 0.21098856 0.21425654\n",
      " 0.19750817 0.18811275 0.17851307 0.17381536 0.16033497 0.16564542\n",
      " 0.17116013 0.17422386 0.18035131 0.17401961 0.16278595 0.16973039\n",
      " 0.17810458 0.17034314 0.16830065 0.17279412 0.17544935 0.18382353\n",
      " 0.19138072 0.18913399 0.19097222 0.17238562 0.16830065 0.1693219\n",
      " 0.17177288 0.16156046 0.14971405 0.1503268  0.15196078 0.14726307\n",
      " 0.14501634 0.14603758 0.12479575 0.13112745 0.11397059 0.1190768\n",
      " 0.12377451 0.13562092 0.12908497 0.13459967 0.12806373 0.13031046\n",
      " 0.12724673 0.13521242 0.14522059 0.15257353 0.14848856 0.14338235\n",
      " 0.14562908 0.15236928 0.15400327 0.14971405 0.1621732  0.16319444\n",
      " 0.16584967 0.16858697 0.17120504 0.17352554]\n",
      "3 day output [[0.17568809]]\n",
      "4 day input [0.13541667 0.14011438 0.1380719  0.13071895 0.13071895 0.12867647\n",
      " 0.11846405 0.14644608 0.14808007 0.15910948 0.15992647 0.15788399\n",
      " 0.16441993 0.17892157 0.17933007 0.19260621 0.20812908 0.18974673\n",
      " 0.18055556 0.18239379 0.17708333 0.17810458 0.18055556 0.17810458\n",
      " 0.17851307 0.19607843 0.18913399 0.18954248 0.19403595 0.19444444\n",
      " 0.20200163 0.19771242 0.19934641 0.19873366 0.1997549  0.2128268\n",
      " 0.21568627 0.20445261 0.21772876 0.21098856 0.21425654 0.19750817\n",
      " 0.18811275 0.17851307 0.17381536 0.16033497 0.16564542 0.17116013\n",
      " 0.17422386 0.18035131 0.17401961 0.16278595 0.16973039 0.17810458\n",
      " 0.17034314 0.16830065 0.17279412 0.17544935 0.18382353 0.19138072\n",
      " 0.18913399 0.19097222 0.17238562 0.16830065 0.1693219  0.17177288\n",
      " 0.16156046 0.14971405 0.1503268  0.15196078 0.14726307 0.14501634\n",
      " 0.14603758 0.12479575 0.13112745 0.11397059 0.1190768  0.12377451\n",
      " 0.13562092 0.12908497 0.13459967 0.12806373 0.13031046 0.12724673\n",
      " 0.13521242 0.14522059 0.15257353 0.14848856 0.14338235 0.14562908\n",
      " 0.15236928 0.15400327 0.14971405 0.1621732  0.16319444 0.16584967\n",
      " 0.16858697 0.17120504 0.17352554 0.17568809]\n",
      "4 day output [[0.17771585]]\n",
      "5 day input [0.14011438 0.1380719  0.13071895 0.13071895 0.12867647 0.11846405\n",
      " 0.14644608 0.14808007 0.15910948 0.15992647 0.15788399 0.16441993\n",
      " 0.17892157 0.17933007 0.19260621 0.20812908 0.18974673 0.18055556\n",
      " 0.18239379 0.17708333 0.17810458 0.18055556 0.17810458 0.17851307\n",
      " 0.19607843 0.18913399 0.18954248 0.19403595 0.19444444 0.20200163\n",
      " 0.19771242 0.19934641 0.19873366 0.1997549  0.2128268  0.21568627\n",
      " 0.20445261 0.21772876 0.21098856 0.21425654 0.19750817 0.18811275\n",
      " 0.17851307 0.17381536 0.16033497 0.16564542 0.17116013 0.17422386\n",
      " 0.18035131 0.17401961 0.16278595 0.16973039 0.17810458 0.17034314\n",
      " 0.16830065 0.17279412 0.17544935 0.18382353 0.19138072 0.18913399\n",
      " 0.19097222 0.17238562 0.16830065 0.1693219  0.17177288 0.16156046\n",
      " 0.14971405 0.1503268  0.15196078 0.14726307 0.14501634 0.14603758\n",
      " 0.12479575 0.13112745 0.11397059 0.1190768  0.12377451 0.13562092\n",
      " 0.12908497 0.13459967 0.12806373 0.13031046 0.12724673 0.13521242\n",
      " 0.14522059 0.15257353 0.14848856 0.14338235 0.14562908 0.15236928\n",
      " 0.15400327 0.14971405 0.1621732  0.16319444 0.16584967 0.16858697\n",
      " 0.17120504 0.17352554 0.17568809 0.17771585]\n",
      "5 day output [[0.17962235]]\n",
      "6 day input [0.1380719  0.13071895 0.13071895 0.12867647 0.11846405 0.14644608\n",
      " 0.14808007 0.15910948 0.15992647 0.15788399 0.16441993 0.17892157\n",
      " 0.17933007 0.19260621 0.20812908 0.18974673 0.18055556 0.18239379\n",
      " 0.17708333 0.17810458 0.18055556 0.17810458 0.17851307 0.19607843\n",
      " 0.18913399 0.18954248 0.19403595 0.19444444 0.20200163 0.19771242\n",
      " 0.19934641 0.19873366 0.1997549  0.2128268  0.21568627 0.20445261\n",
      " 0.21772876 0.21098856 0.21425654 0.19750817 0.18811275 0.17851307\n",
      " 0.17381536 0.16033497 0.16564542 0.17116013 0.17422386 0.18035131\n",
      " 0.17401961 0.16278595 0.16973039 0.17810458 0.17034314 0.16830065\n",
      " 0.17279412 0.17544935 0.18382353 0.19138072 0.18913399 0.19097222\n",
      " 0.17238562 0.16830065 0.1693219  0.17177288 0.16156046 0.14971405\n",
      " 0.1503268  0.15196078 0.14726307 0.14501634 0.14603758 0.12479575\n",
      " 0.13112745 0.11397059 0.1190768  0.12377451 0.13562092 0.12908497\n",
      " 0.13459967 0.12806373 0.13031046 0.12724673 0.13521242 0.14522059\n",
      " 0.15257353 0.14848856 0.14338235 0.14562908 0.15236928 0.15400327\n",
      " 0.14971405 0.1621732  0.16319444 0.16584967 0.16858697 0.17120504\n",
      " 0.17352554 0.17568809 0.17771585 0.17962235]\n",
      "6 day output [[0.18142556]]\n",
      "7 day input [0.13071895 0.13071895 0.12867647 0.11846405 0.14644608 0.14808007\n",
      " 0.15910948 0.15992647 0.15788399 0.16441993 0.17892157 0.17933007\n",
      " 0.19260621 0.20812908 0.18974673 0.18055556 0.18239379 0.17708333\n",
      " 0.17810458 0.18055556 0.17810458 0.17851307 0.19607843 0.18913399\n",
      " 0.18954248 0.19403595 0.19444444 0.20200163 0.19771242 0.19934641\n",
      " 0.19873366 0.1997549  0.2128268  0.21568627 0.20445261 0.21772876\n",
      " 0.21098856 0.21425654 0.19750817 0.18811275 0.17851307 0.17381536\n",
      " 0.16033497 0.16564542 0.17116013 0.17422386 0.18035131 0.17401961\n",
      " 0.16278595 0.16973039 0.17810458 0.17034314 0.16830065 0.17279412\n",
      " 0.17544935 0.18382353 0.19138072 0.18913399 0.19097222 0.17238562\n",
      " 0.16830065 0.1693219  0.17177288 0.16156046 0.14971405 0.1503268\n",
      " 0.15196078 0.14726307 0.14501634 0.14603758 0.12479575 0.13112745\n",
      " 0.11397059 0.1190768  0.12377451 0.13562092 0.12908497 0.13459967\n",
      " 0.12806373 0.13031046 0.12724673 0.13521242 0.14522059 0.15257353\n",
      " 0.14848856 0.14338235 0.14562908 0.15236928 0.15400327 0.14971405\n",
      " 0.1621732  0.16319444 0.16584967 0.16858697 0.17120504 0.17352554\n",
      " 0.17568809 0.17771585 0.17962235 0.18142556]\n",
      "7 day output [[0.18314306]]\n",
      "8 day input [0.13071895 0.12867647 0.11846405 0.14644608 0.14808007 0.15910948\n",
      " 0.15992647 0.15788399 0.16441993 0.17892157 0.17933007 0.19260621\n",
      " 0.20812908 0.18974673 0.18055556 0.18239379 0.17708333 0.17810458\n",
      " 0.18055556 0.17810458 0.17851307 0.19607843 0.18913399 0.18954248\n",
      " 0.19403595 0.19444444 0.20200163 0.19771242 0.19934641 0.19873366\n",
      " 0.1997549  0.2128268  0.21568627 0.20445261 0.21772876 0.21098856\n",
      " 0.21425654 0.19750817 0.18811275 0.17851307 0.17381536 0.16033497\n",
      " 0.16564542 0.17116013 0.17422386 0.18035131 0.17401961 0.16278595\n",
      " 0.16973039 0.17810458 0.17034314 0.16830065 0.17279412 0.17544935\n",
      " 0.18382353 0.19138072 0.18913399 0.19097222 0.17238562 0.16830065\n",
      " 0.1693219  0.17177288 0.16156046 0.14971405 0.1503268  0.15196078\n",
      " 0.14726307 0.14501634 0.14603758 0.12479575 0.13112745 0.11397059\n",
      " 0.1190768  0.12377451 0.13562092 0.12908497 0.13459967 0.12806373\n",
      " 0.13031046 0.12724673 0.13521242 0.14522059 0.15257353 0.14848856\n",
      " 0.14338235 0.14562908 0.15236928 0.15400327 0.14971405 0.1621732\n",
      " 0.16319444 0.16584967 0.16858697 0.17120504 0.17352554 0.17568809\n",
      " 0.17771585 0.17962235 0.18142556 0.18314306]\n",
      "8 day output [[0.18478948]]\n",
      "9 day input [0.12867647 0.11846405 0.14644608 0.14808007 0.15910948 0.15992647\n",
      " 0.15788399 0.16441993 0.17892157 0.17933007 0.19260621 0.20812908\n",
      " 0.18974673 0.18055556 0.18239379 0.17708333 0.17810458 0.18055556\n",
      " 0.17810458 0.17851307 0.19607843 0.18913399 0.18954248 0.19403595\n",
      " 0.19444444 0.20200163 0.19771242 0.19934641 0.19873366 0.1997549\n",
      " 0.2128268  0.21568627 0.20445261 0.21772876 0.21098856 0.21425654\n",
      " 0.19750817 0.18811275 0.17851307 0.17381536 0.16033497 0.16564542\n",
      " 0.17116013 0.17422386 0.18035131 0.17401961 0.16278595 0.16973039\n",
      " 0.17810458 0.17034314 0.16830065 0.17279412 0.17544935 0.18382353\n",
      " 0.19138072 0.18913399 0.19097222 0.17238562 0.16830065 0.1693219\n",
      " 0.17177288 0.16156046 0.14971405 0.1503268  0.15196078 0.14726307\n",
      " 0.14501634 0.14603758 0.12479575 0.13112745 0.11397059 0.1190768\n",
      " 0.12377451 0.13562092 0.12908497 0.13459967 0.12806373 0.13031046\n",
      " 0.12724673 0.13521242 0.14522059 0.15257353 0.14848856 0.14338235\n",
      " 0.14562908 0.15236928 0.15400327 0.14971405 0.1621732  0.16319444\n",
      " 0.16584967 0.16858697 0.17120504 0.17352554 0.17568809 0.17771585\n",
      " 0.17962235 0.18142556 0.18314306 0.18478948]\n",
      "9 day output [[0.18637569]]\n",
      "10 day input [0.11846405 0.14644608 0.14808007 0.15910948 0.15992647 0.15788399\n",
      " 0.16441993 0.17892157 0.17933007 0.19260621 0.20812908 0.18974673\n",
      " 0.18055556 0.18239379 0.17708333 0.17810458 0.18055556 0.17810458\n",
      " 0.17851307 0.19607843 0.18913399 0.18954248 0.19403595 0.19444444\n",
      " 0.20200163 0.19771242 0.19934641 0.19873366 0.1997549  0.2128268\n",
      " 0.21568627 0.20445261 0.21772876 0.21098856 0.21425654 0.19750817\n",
      " 0.18811275 0.17851307 0.17381536 0.16033497 0.16564542 0.17116013\n",
      " 0.17422386 0.18035131 0.17401961 0.16278595 0.16973039 0.17810458\n",
      " 0.17034314 0.16830065 0.17279412 0.17544935 0.18382353 0.19138072\n",
      " 0.18913399 0.19097222 0.17238562 0.16830065 0.1693219  0.17177288\n",
      " 0.16156046 0.14971405 0.1503268  0.15196078 0.14726307 0.14501634\n",
      " 0.14603758 0.12479575 0.13112745 0.11397059 0.1190768  0.12377451\n",
      " 0.13562092 0.12908497 0.13459967 0.12806373 0.13031046 0.12724673\n",
      " 0.13521242 0.14522059 0.15257353 0.14848856 0.14338235 0.14562908\n",
      " 0.15236928 0.15400327 0.14971405 0.1621732  0.16319444 0.16584967\n",
      " 0.16858697 0.17120504 0.17352554 0.17568809 0.17771585 0.17962235\n",
      " 0.18142556 0.18314306 0.18478948 0.18637569]\n",
      "10 day output [[0.18790945]]\n",
      "11 day input [0.14644608 0.14808007 0.15910948 0.15992647 0.15788399 0.16441993\n",
      " 0.17892157 0.17933007 0.19260621 0.20812908 0.18974673 0.18055556\n",
      " 0.18239379 0.17708333 0.17810458 0.18055556 0.17810458 0.17851307\n",
      " 0.19607843 0.18913399 0.18954248 0.19403595 0.19444444 0.20200163\n",
      " 0.19771242 0.19934641 0.19873366 0.1997549  0.2128268  0.21568627\n",
      " 0.20445261 0.21772876 0.21098856 0.21425654 0.19750817 0.18811275\n",
      " 0.17851307 0.17381536 0.16033497 0.16564542 0.17116013 0.17422386\n",
      " 0.18035131 0.17401961 0.16278595 0.16973039 0.17810458 0.17034314\n",
      " 0.16830065 0.17279412 0.17544935 0.18382353 0.19138072 0.18913399\n",
      " 0.19097222 0.17238562 0.16830065 0.1693219  0.17177288 0.16156046\n",
      " 0.14971405 0.1503268  0.15196078 0.14726307 0.14501634 0.14603758\n",
      " 0.12479575 0.13112745 0.11397059 0.1190768  0.12377451 0.13562092\n",
      " 0.12908497 0.13459967 0.12806373 0.13031046 0.12724673 0.13521242\n",
      " 0.14522059 0.15257353 0.14848856 0.14338235 0.14562908 0.15236928\n",
      " 0.15400327 0.14971405 0.1621732  0.16319444 0.16584967 0.16858697\n",
      " 0.17120504 0.17352554 0.17568809 0.17771585 0.17962235 0.18142556\n",
      " 0.18314306 0.18478948 0.18637569 0.18790945]\n",
      "11 day output [[0.18939596]]\n",
      "12 day input [0.14808007 0.15910948 0.15992647 0.15788399 0.16441993 0.17892157\n",
      " 0.17933007 0.19260621 0.20812908 0.18974673 0.18055556 0.18239379\n",
      " 0.17708333 0.17810458 0.18055556 0.17810458 0.17851307 0.19607843\n",
      " 0.18913399 0.18954248 0.19403595 0.19444444 0.20200163 0.19771242\n",
      " 0.19934641 0.19873366 0.1997549  0.2128268  0.21568627 0.20445261\n",
      " 0.21772876 0.21098856 0.21425654 0.19750817 0.18811275 0.17851307\n",
      " 0.17381536 0.16033497 0.16564542 0.17116013 0.17422386 0.18035131\n",
      " 0.17401961 0.16278595 0.16973039 0.17810458 0.17034314 0.16830065\n",
      " 0.17279412 0.17544935 0.18382353 0.19138072 0.18913399 0.19097222\n",
      " 0.17238562 0.16830065 0.1693219  0.17177288 0.16156046 0.14971405\n",
      " 0.1503268  0.15196078 0.14726307 0.14501634 0.14603758 0.12479575\n",
      " 0.13112745 0.11397059 0.1190768  0.12377451 0.13562092 0.12908497\n",
      " 0.13459967 0.12806373 0.13031046 0.12724673 0.13521242 0.14522059\n",
      " 0.15257353 0.14848856 0.14338235 0.14562908 0.15236928 0.15400327\n",
      " 0.14971405 0.1621732  0.16319444 0.16584967 0.16858697 0.17120504\n",
      " 0.17352554 0.17568809 0.17771585 0.17962235 0.18142556 0.18314306\n",
      " 0.18478948 0.18637569 0.18790945 0.18939596]\n",
      "12 day output [[0.19083877]]\n",
      "13 day input [0.15910948 0.15992647 0.15788399 0.16441993 0.17892157 0.17933007\n",
      " 0.19260621 0.20812908 0.18974673 0.18055556 0.18239379 0.17708333\n",
      " 0.17810458 0.18055556 0.17810458 0.17851307 0.19607843 0.18913399\n",
      " 0.18954248 0.19403595 0.19444444 0.20200163 0.19771242 0.19934641\n",
      " 0.19873366 0.1997549  0.2128268  0.21568627 0.20445261 0.21772876\n",
      " 0.21098856 0.21425654 0.19750817 0.18811275 0.17851307 0.17381536\n",
      " 0.16033497 0.16564542 0.17116013 0.17422386 0.18035131 0.17401961\n",
      " 0.16278595 0.16973039 0.17810458 0.17034314 0.16830065 0.17279412\n",
      " 0.17544935 0.18382353 0.19138072 0.18913399 0.19097222 0.17238562\n",
      " 0.16830065 0.1693219  0.17177288 0.16156046 0.14971405 0.1503268\n",
      " 0.15196078 0.14726307 0.14501634 0.14603758 0.12479575 0.13112745\n",
      " 0.11397059 0.1190768  0.12377451 0.13562092 0.12908497 0.13459967\n",
      " 0.12806373 0.13031046 0.12724673 0.13521242 0.14522059 0.15257353\n",
      " 0.14848856 0.14338235 0.14562908 0.15236928 0.15400327 0.14971405\n",
      " 0.1621732  0.16319444 0.16584967 0.16858697 0.17120504 0.17352554\n",
      " 0.17568809 0.17771585 0.17962235 0.18142556 0.18314306 0.18478948\n",
      " 0.18637569 0.18790945 0.18939596 0.19083877]\n",
      "13 day output [[0.1922399]]\n",
      "14 day input [0.15992647 0.15788399 0.16441993 0.17892157 0.17933007 0.19260621\n",
      " 0.20812908 0.18974673 0.18055556 0.18239379 0.17708333 0.17810458\n",
      " 0.18055556 0.17810458 0.17851307 0.19607843 0.18913399 0.18954248\n",
      " 0.19403595 0.19444444 0.20200163 0.19771242 0.19934641 0.19873366\n",
      " 0.1997549  0.2128268  0.21568627 0.20445261 0.21772876 0.21098856\n",
      " 0.21425654 0.19750817 0.18811275 0.17851307 0.17381536 0.16033497\n",
      " 0.16564542 0.17116013 0.17422386 0.18035131 0.17401961 0.16278595\n",
      " 0.16973039 0.17810458 0.17034314 0.16830065 0.17279412 0.17544935\n",
      " 0.18382353 0.19138072 0.18913399 0.19097222 0.17238562 0.16830065\n",
      " 0.1693219  0.17177288 0.16156046 0.14971405 0.1503268  0.15196078\n",
      " 0.14726307 0.14501634 0.14603758 0.12479575 0.13112745 0.11397059\n",
      " 0.1190768  0.12377451 0.13562092 0.12908497 0.13459967 0.12806373\n",
      " 0.13031046 0.12724673 0.13521242 0.14522059 0.15257353 0.14848856\n",
      " 0.14338235 0.14562908 0.15236928 0.15400327 0.14971405 0.1621732\n",
      " 0.16319444 0.16584967 0.16858697 0.17120504 0.17352554 0.17568809\n",
      " 0.17771585 0.17962235 0.18142556 0.18314306 0.18478948 0.18637569\n",
      " 0.18790945 0.18939596 0.19083877 0.1922399 ]\n",
      "14 day output [[0.19360074]]\n",
      "15 day input [0.15788399 0.16441993 0.17892157 0.17933007 0.19260621 0.20812908\n",
      " 0.18974673 0.18055556 0.18239379 0.17708333 0.17810458 0.18055556\n",
      " 0.17810458 0.17851307 0.19607843 0.18913399 0.18954248 0.19403595\n",
      " 0.19444444 0.20200163 0.19771242 0.19934641 0.19873366 0.1997549\n",
      " 0.2128268  0.21568627 0.20445261 0.21772876 0.21098856 0.21425654\n",
      " 0.19750817 0.18811275 0.17851307 0.17381536 0.16033497 0.16564542\n",
      " 0.17116013 0.17422386 0.18035131 0.17401961 0.16278595 0.16973039\n",
      " 0.17810458 0.17034314 0.16830065 0.17279412 0.17544935 0.18382353\n",
      " 0.19138072 0.18913399 0.19097222 0.17238562 0.16830065 0.1693219\n",
      " 0.17177288 0.16156046 0.14971405 0.1503268  0.15196078 0.14726307\n",
      " 0.14501634 0.14603758 0.12479575 0.13112745 0.11397059 0.1190768\n",
      " 0.12377451 0.13562092 0.12908497 0.13459967 0.12806373 0.13031046\n",
      " 0.12724673 0.13521242 0.14522059 0.15257353 0.14848856 0.14338235\n",
      " 0.14562908 0.15236928 0.15400327 0.14971405 0.1621732  0.16319444\n",
      " 0.16584967 0.16858697 0.17120504 0.17352554 0.17568809 0.17771585\n",
      " 0.17962235 0.18142556 0.18314306 0.18478948 0.18637569 0.18790945\n",
      " 0.18939596 0.19083877 0.1922399  0.19360074]\n",
      "15 day output [[0.19492234]]\n",
      "16 day input [0.16441993 0.17892157 0.17933007 0.19260621 0.20812908 0.18974673\n",
      " 0.18055556 0.18239379 0.17708333 0.17810458 0.18055556 0.17810458\n",
      " 0.17851307 0.19607843 0.18913399 0.18954248 0.19403595 0.19444444\n",
      " 0.20200163 0.19771242 0.19934641 0.19873366 0.1997549  0.2128268\n",
      " 0.21568627 0.20445261 0.21772876 0.21098856 0.21425654 0.19750817\n",
      " 0.18811275 0.17851307 0.17381536 0.16033497 0.16564542 0.17116013\n",
      " 0.17422386 0.18035131 0.17401961 0.16278595 0.16973039 0.17810458\n",
      " 0.17034314 0.16830065 0.17279412 0.17544935 0.18382353 0.19138072\n",
      " 0.18913399 0.19097222 0.17238562 0.16830065 0.1693219  0.17177288\n",
      " 0.16156046 0.14971405 0.1503268  0.15196078 0.14726307 0.14501634\n",
      " 0.14603758 0.12479575 0.13112745 0.11397059 0.1190768  0.12377451\n",
      " 0.13562092 0.12908497 0.13459967 0.12806373 0.13031046 0.12724673\n",
      " 0.13521242 0.14522059 0.15257353 0.14848856 0.14338235 0.14562908\n",
      " 0.15236928 0.15400327 0.14971405 0.1621732  0.16319444 0.16584967\n",
      " 0.16858697 0.17120504 0.17352554 0.17568809 0.17771585 0.17962235\n",
      " 0.18142556 0.18314306 0.18478948 0.18637569 0.18790945 0.18939596\n",
      " 0.19083877 0.1922399  0.19360074 0.19492234]\n",
      "16 day output [[0.19620572]]\n",
      "17 day input [0.17892157 0.17933007 0.19260621 0.20812908 0.18974673 0.18055556\n",
      " 0.18239379 0.17708333 0.17810458 0.18055556 0.17810458 0.17851307\n",
      " 0.19607843 0.18913399 0.18954248 0.19403595 0.19444444 0.20200163\n",
      " 0.19771242 0.19934641 0.19873366 0.1997549  0.2128268  0.21568627\n",
      " 0.20445261 0.21772876 0.21098856 0.21425654 0.19750817 0.18811275\n",
      " 0.17851307 0.17381536 0.16033497 0.16564542 0.17116013 0.17422386\n",
      " 0.18035131 0.17401961 0.16278595 0.16973039 0.17810458 0.17034314\n",
      " 0.16830065 0.17279412 0.17544935 0.18382353 0.19138072 0.18913399\n",
      " 0.19097222 0.17238562 0.16830065 0.1693219  0.17177288 0.16156046\n",
      " 0.14971405 0.1503268  0.15196078 0.14726307 0.14501634 0.14603758\n",
      " 0.12479575 0.13112745 0.11397059 0.1190768  0.12377451 0.13562092\n",
      " 0.12908497 0.13459967 0.12806373 0.13031046 0.12724673 0.13521242\n",
      " 0.14522059 0.15257353 0.14848856 0.14338235 0.14562908 0.15236928\n",
      " 0.15400327 0.14971405 0.1621732  0.16319444 0.16584967 0.16858697\n",
      " 0.17120504 0.17352554 0.17568809 0.17771585 0.17962235 0.18142556\n",
      " 0.18314306 0.18478948 0.18637569 0.18790945 0.18939596 0.19083877\n",
      " 0.1922399  0.19360074 0.19492234 0.19620572]\n",
      "17 day output [[0.19745182]]\n",
      "18 day input [0.17933007 0.19260621 0.20812908 0.18974673 0.18055556 0.18239379\n",
      " 0.17708333 0.17810458 0.18055556 0.17810458 0.17851307 0.19607843\n",
      " 0.18913399 0.18954248 0.19403595 0.19444444 0.20200163 0.19771242\n",
      " 0.19934641 0.19873366 0.1997549  0.2128268  0.21568627 0.20445261\n",
      " 0.21772876 0.21098856 0.21425654 0.19750817 0.18811275 0.17851307\n",
      " 0.17381536 0.16033497 0.16564542 0.17116013 0.17422386 0.18035131\n",
      " 0.17401961 0.16278595 0.16973039 0.17810458 0.17034314 0.16830065\n",
      " 0.17279412 0.17544935 0.18382353 0.19138072 0.18913399 0.19097222\n",
      " 0.17238562 0.16830065 0.1693219  0.17177288 0.16156046 0.14971405\n",
      " 0.1503268  0.15196078 0.14726307 0.14501634 0.14603758 0.12479575\n",
      " 0.13112745 0.11397059 0.1190768  0.12377451 0.13562092 0.12908497\n",
      " 0.13459967 0.12806373 0.13031046 0.12724673 0.13521242 0.14522059\n",
      " 0.15257353 0.14848856 0.14338235 0.14562908 0.15236928 0.15400327\n",
      " 0.14971405 0.1621732  0.16319444 0.16584967 0.16858697 0.17120504\n",
      " 0.17352554 0.17568809 0.17771585 0.17962235 0.18142556 0.18314306\n",
      " 0.18478948 0.18637569 0.18790945 0.18939596 0.19083877 0.1922399\n",
      " 0.19360074 0.19492234 0.19620572 0.19745182]\n",
      "18 day output [[0.1986619]]\n",
      "19 day input [0.19260621 0.20812908 0.18974673 0.18055556 0.18239379 0.17708333\n",
      " 0.17810458 0.18055556 0.17810458 0.17851307 0.19607843 0.18913399\n",
      " 0.18954248 0.19403595 0.19444444 0.20200163 0.19771242 0.19934641\n",
      " 0.19873366 0.1997549  0.2128268  0.21568627 0.20445261 0.21772876\n",
      " 0.21098856 0.21425654 0.19750817 0.18811275 0.17851307 0.17381536\n",
      " 0.16033497 0.16564542 0.17116013 0.17422386 0.18035131 0.17401961\n",
      " 0.16278595 0.16973039 0.17810458 0.17034314 0.16830065 0.17279412\n",
      " 0.17544935 0.18382353 0.19138072 0.18913399 0.19097222 0.17238562\n",
      " 0.16830065 0.1693219  0.17177288 0.16156046 0.14971405 0.1503268\n",
      " 0.15196078 0.14726307 0.14501634 0.14603758 0.12479575 0.13112745\n",
      " 0.11397059 0.1190768  0.12377451 0.13562092 0.12908497 0.13459967\n",
      " 0.12806373 0.13031046 0.12724673 0.13521242 0.14522059 0.15257353\n",
      " 0.14848856 0.14338235 0.14562908 0.15236928 0.15400327 0.14971405\n",
      " 0.1621732  0.16319444 0.16584967 0.16858697 0.17120504 0.17352554\n",
      " 0.17568809 0.17771585 0.17962235 0.18142556 0.18314306 0.18478948\n",
      " 0.18637569 0.18790945 0.18939596 0.19083877 0.1922399  0.19360074\n",
      " 0.19492234 0.19620572 0.19745182 0.19866189]\n",
      "19 day output [[0.19983724]]\n",
      "20 day input [0.20812908 0.18974673 0.18055556 0.18239379 0.17708333 0.17810458\n",
      " 0.18055556 0.17810458 0.17851307 0.19607843 0.18913399 0.18954248\n",
      " 0.19403595 0.19444444 0.20200163 0.19771242 0.19934641 0.19873366\n",
      " 0.1997549  0.2128268  0.21568627 0.20445261 0.21772876 0.21098856\n",
      " 0.21425654 0.19750817 0.18811275 0.17851307 0.17381536 0.16033497\n",
      " 0.16564542 0.17116013 0.17422386 0.18035131 0.17401961 0.16278595\n",
      " 0.16973039 0.17810458 0.17034314 0.16830065 0.17279412 0.17544935\n",
      " 0.18382353 0.19138072 0.18913399 0.19097222 0.17238562 0.16830065\n",
      " 0.1693219  0.17177288 0.16156046 0.14971405 0.1503268  0.15196078\n",
      " 0.14726307 0.14501634 0.14603758 0.12479575 0.13112745 0.11397059\n",
      " 0.1190768  0.12377451 0.13562092 0.12908497 0.13459967 0.12806373\n",
      " 0.13031046 0.12724673 0.13521242 0.14522059 0.15257353 0.14848856\n",
      " 0.14338235 0.14562908 0.15236928 0.15400327 0.14971405 0.1621732\n",
      " 0.16319444 0.16584967 0.16858697 0.17120504 0.17352554 0.17568809\n",
      " 0.17771585 0.17962235 0.18142556 0.18314306 0.18478948 0.18637569\n",
      " 0.18790945 0.18939596 0.19083877 0.1922399  0.19360074 0.19492234\n",
      " 0.19620572 0.19745182 0.19866189 0.19983724]\n",
      "20 day output [[0.20097932]]\n",
      "21 day input [0.18974673 0.18055556 0.18239379 0.17708333 0.17810458 0.18055556\n",
      " 0.17810458 0.17851307 0.19607843 0.18913399 0.18954248 0.19403595\n",
      " 0.19444444 0.20200163 0.19771242 0.19934641 0.19873366 0.1997549\n",
      " 0.2128268  0.21568627 0.20445261 0.21772876 0.21098856 0.21425654\n",
      " 0.19750817 0.18811275 0.17851307 0.17381536 0.16033497 0.16564542\n",
      " 0.17116013 0.17422386 0.18035131 0.17401961 0.16278595 0.16973039\n",
      " 0.17810458 0.17034314 0.16830065 0.17279412 0.17544935 0.18382353\n",
      " 0.19138072 0.18913399 0.19097222 0.17238562 0.16830065 0.1693219\n",
      " 0.17177288 0.16156046 0.14971405 0.1503268  0.15196078 0.14726307\n",
      " 0.14501634 0.14603758 0.12479575 0.13112745 0.11397059 0.1190768\n",
      " 0.12377451 0.13562092 0.12908497 0.13459967 0.12806373 0.13031046\n",
      " 0.12724673 0.13521242 0.14522059 0.15257353 0.14848856 0.14338235\n",
      " 0.14562908 0.15236928 0.15400327 0.14971405 0.1621732  0.16319444\n",
      " 0.16584967 0.16858697 0.17120504 0.17352554 0.17568809 0.17771585\n",
      " 0.17962235 0.18142556 0.18314306 0.18478948 0.18637569 0.18790945\n",
      " 0.18939596 0.19083877 0.1922399  0.19360074 0.19492234 0.19620572\n",
      " 0.19745182 0.19866189 0.19983724 0.20097932]\n",
      "21 day output [[0.20208968]]\n",
      "22 day input [0.18055556 0.18239379 0.17708333 0.17810458 0.18055556 0.17810458\n",
      " 0.17851307 0.19607843 0.18913399 0.18954248 0.19403595 0.19444444\n",
      " 0.20200163 0.19771242 0.19934641 0.19873366 0.1997549  0.2128268\n",
      " 0.21568627 0.20445261 0.21772876 0.21098856 0.21425654 0.19750817\n",
      " 0.18811275 0.17851307 0.17381536 0.16033497 0.16564542 0.17116013\n",
      " 0.17422386 0.18035131 0.17401961 0.16278595 0.16973039 0.17810458\n",
      " 0.17034314 0.16830065 0.17279412 0.17544935 0.18382353 0.19138072\n",
      " 0.18913399 0.19097222 0.17238562 0.16830065 0.1693219  0.17177288\n",
      " 0.16156046 0.14971405 0.1503268  0.15196078 0.14726307 0.14501634\n",
      " 0.14603758 0.12479575 0.13112745 0.11397059 0.1190768  0.12377451\n",
      " 0.13562092 0.12908497 0.13459967 0.12806373 0.13031046 0.12724673\n",
      " 0.13521242 0.14522059 0.15257353 0.14848856 0.14338235 0.14562908\n",
      " 0.15236928 0.15400327 0.14971405 0.1621732  0.16319444 0.16584967\n",
      " 0.16858697 0.17120504 0.17352554 0.17568809 0.17771585 0.17962235\n",
      " 0.18142556 0.18314306 0.18478948 0.18637569 0.18790945 0.18939596\n",
      " 0.19083877 0.1922399  0.19360074 0.19492234 0.19620572 0.19745182\n",
      " 0.19866189 0.19983724 0.20097932 0.20208968]\n",
      "22 day output [[0.20316985]]\n",
      "23 day input [0.18239379 0.17708333 0.17810458 0.18055556 0.17810458 0.17851307\n",
      " 0.19607843 0.18913399 0.18954248 0.19403595 0.19444444 0.20200163\n",
      " 0.19771242 0.19934641 0.19873366 0.1997549  0.2128268  0.21568627\n",
      " 0.20445261 0.21772876 0.21098856 0.21425654 0.19750817 0.18811275\n",
      " 0.17851307 0.17381536 0.16033497 0.16564542 0.17116013 0.17422386\n",
      " 0.18035131 0.17401961 0.16278595 0.16973039 0.17810458 0.17034314\n",
      " 0.16830065 0.17279412 0.17544935 0.18382353 0.19138072 0.18913399\n",
      " 0.19097222 0.17238562 0.16830065 0.1693219  0.17177288 0.16156046\n",
      " 0.14971405 0.1503268  0.15196078 0.14726307 0.14501634 0.14603758\n",
      " 0.12479575 0.13112745 0.11397059 0.1190768  0.12377451 0.13562092\n",
      " 0.12908497 0.13459967 0.12806373 0.13031046 0.12724673 0.13521242\n",
      " 0.14522059 0.15257353 0.14848856 0.14338235 0.14562908 0.15236928\n",
      " 0.15400327 0.14971405 0.1621732  0.16319444 0.16584967 0.16858697\n",
      " 0.17120504 0.17352554 0.17568809 0.17771585 0.17962235 0.18142556\n",
      " 0.18314306 0.18478948 0.18637569 0.18790945 0.18939596 0.19083877\n",
      " 0.1922399  0.19360074 0.19492234 0.19620572 0.19745182 0.19866189\n",
      " 0.19983724 0.20097932 0.20208968 0.20316985]\n",
      "23 day output [[0.20422143]]\n",
      "24 day input [0.17708333 0.17810458 0.18055556 0.17810458 0.17851307 0.19607843\n",
      " 0.18913399 0.18954248 0.19403595 0.19444444 0.20200163 0.19771242\n",
      " 0.19934641 0.19873366 0.1997549  0.2128268  0.21568627 0.20445261\n",
      " 0.21772876 0.21098856 0.21425654 0.19750817 0.18811275 0.17851307\n",
      " 0.17381536 0.16033497 0.16564542 0.17116013 0.17422386 0.18035131\n",
      " 0.17401961 0.16278595 0.16973039 0.17810458 0.17034314 0.16830065\n",
      " 0.17279412 0.17544935 0.18382353 0.19138072 0.18913399 0.19097222\n",
      " 0.17238562 0.16830065 0.1693219  0.17177288 0.16156046 0.14971405\n",
      " 0.1503268  0.15196078 0.14726307 0.14501634 0.14603758 0.12479575\n",
      " 0.13112745 0.11397059 0.1190768  0.12377451 0.13562092 0.12908497\n",
      " 0.13459967 0.12806373 0.13031046 0.12724673 0.13521242 0.14522059\n",
      " 0.15257353 0.14848856 0.14338235 0.14562908 0.15236928 0.15400327\n",
      " 0.14971405 0.1621732  0.16319444 0.16584967 0.16858697 0.17120504\n",
      " 0.17352554 0.17568809 0.17771585 0.17962235 0.18142556 0.18314306\n",
      " 0.18478948 0.18637569 0.18790945 0.18939596 0.19083877 0.1922399\n",
      " 0.19360074 0.19492234 0.19620572 0.19745182 0.19866189 0.19983724\n",
      " 0.20097932 0.20208968 0.20316985 0.20422143]\n",
      "24 day output [[0.20524567]]\n",
      "25 day input [0.17810458 0.18055556 0.17810458 0.17851307 0.19607843 0.18913399\n",
      " 0.18954248 0.19403595 0.19444444 0.20200163 0.19771242 0.19934641\n",
      " 0.19873366 0.1997549  0.2128268  0.21568627 0.20445261 0.21772876\n",
      " 0.21098856 0.21425654 0.19750817 0.18811275 0.17851307 0.17381536\n",
      " 0.16033497 0.16564542 0.17116013 0.17422386 0.18035131 0.17401961\n",
      " 0.16278595 0.16973039 0.17810458 0.17034314 0.16830065 0.17279412\n",
      " 0.17544935 0.18382353 0.19138072 0.18913399 0.19097222 0.17238562\n",
      " 0.16830065 0.1693219  0.17177288 0.16156046 0.14971405 0.1503268\n",
      " 0.15196078 0.14726307 0.14501634 0.14603758 0.12479575 0.13112745\n",
      " 0.11397059 0.1190768  0.12377451 0.13562092 0.12908497 0.13459967\n",
      " 0.12806373 0.13031046 0.12724673 0.13521242 0.14522059 0.15257353\n",
      " 0.14848856 0.14338235 0.14562908 0.15236928 0.15400327 0.14971405\n",
      " 0.1621732  0.16319444 0.16584967 0.16858697 0.17120504 0.17352554\n",
      " 0.17568809 0.17771585 0.17962235 0.18142556 0.18314306 0.18478948\n",
      " 0.18637569 0.18790945 0.18939596 0.19083877 0.1922399  0.19360074\n",
      " 0.19492234 0.19620572 0.19745182 0.19866189 0.19983724 0.20097932\n",
      " 0.20208968 0.20316985 0.20422143 0.20524567]\n",
      "25 day output [[0.2062439]]\n",
      "26 day input [0.18055556 0.17810458 0.17851307 0.19607843 0.18913399 0.18954248\n",
      " 0.19403595 0.19444444 0.20200163 0.19771242 0.19934641 0.19873366\n",
      " 0.1997549  0.2128268  0.21568627 0.20445261 0.21772876 0.21098856\n",
      " 0.21425654 0.19750817 0.18811275 0.17851307 0.17381536 0.16033497\n",
      " 0.16564542 0.17116013 0.17422386 0.18035131 0.17401961 0.16278595\n",
      " 0.16973039 0.17810458 0.17034314 0.16830065 0.17279412 0.17544935\n",
      " 0.18382353 0.19138072 0.18913399 0.19097222 0.17238562 0.16830065\n",
      " 0.1693219  0.17177288 0.16156046 0.14971405 0.1503268  0.15196078\n",
      " 0.14726307 0.14501634 0.14603758 0.12479575 0.13112745 0.11397059\n",
      " 0.1190768  0.12377451 0.13562092 0.12908497 0.13459967 0.12806373\n",
      " 0.13031046 0.12724673 0.13521242 0.14522059 0.15257353 0.14848856\n",
      " 0.14338235 0.14562908 0.15236928 0.15400327 0.14971405 0.1621732\n",
      " 0.16319444 0.16584967 0.16858697 0.17120504 0.17352554 0.17568809\n",
      " 0.17771585 0.17962235 0.18142556 0.18314306 0.18478948 0.18637569\n",
      " 0.18790945 0.18939596 0.19083877 0.1922399  0.19360074 0.19492234\n",
      " 0.19620572 0.19745182 0.19866189 0.19983724 0.20097932 0.20208968\n",
      " 0.20316985 0.20422143 0.20524567 0.2062439 ]\n",
      "26 day output [[0.20721728]]\n",
      "27 day input [0.17810458 0.17851307 0.19607843 0.18913399 0.18954248 0.19403595\n",
      " 0.19444444 0.20200163 0.19771242 0.19934641 0.19873366 0.1997549\n",
      " 0.2128268  0.21568627 0.20445261 0.21772876 0.21098856 0.21425654\n",
      " 0.19750817 0.18811275 0.17851307 0.17381536 0.16033497 0.16564542\n",
      " 0.17116013 0.17422386 0.18035131 0.17401961 0.16278595 0.16973039\n",
      " 0.17810458 0.17034314 0.16830065 0.17279412 0.17544935 0.18382353\n",
      " 0.19138072 0.18913399 0.19097222 0.17238562 0.16830065 0.1693219\n",
      " 0.17177288 0.16156046 0.14971405 0.1503268  0.15196078 0.14726307\n",
      " 0.14501634 0.14603758 0.12479575 0.13112745 0.11397059 0.1190768\n",
      " 0.12377451 0.13562092 0.12908497 0.13459967 0.12806373 0.13031046\n",
      " 0.12724673 0.13521242 0.14522059 0.15257353 0.14848856 0.14338235\n",
      " 0.14562908 0.15236928 0.15400327 0.14971405 0.1621732  0.16319444\n",
      " 0.16584967 0.16858697 0.17120504 0.17352554 0.17568809 0.17771585\n",
      " 0.17962235 0.18142556 0.18314306 0.18478948 0.18637569 0.18790945\n",
      " 0.18939596 0.19083877 0.1922399  0.19360074 0.19492234 0.19620572\n",
      " 0.19745182 0.19866189 0.19983724 0.20097932 0.20208968 0.20316985\n",
      " 0.20422143 0.20524567 0.2062439  0.20721728]\n",
      "27 day output [[0.20816666]]\n",
      "28 day input [0.17851307 0.19607843 0.18913399 0.18954248 0.19403595 0.19444444\n",
      " 0.20200163 0.19771242 0.19934641 0.19873366 0.1997549  0.2128268\n",
      " 0.21568627 0.20445261 0.21772876 0.21098856 0.21425654 0.19750817\n",
      " 0.18811275 0.17851307 0.17381536 0.16033497 0.16564542 0.17116013\n",
      " 0.17422386 0.18035131 0.17401961 0.16278595 0.16973039 0.17810458\n",
      " 0.17034314 0.16830065 0.17279412 0.17544935 0.18382353 0.19138072\n",
      " 0.18913399 0.19097222 0.17238562 0.16830065 0.1693219  0.17177288\n",
      " 0.16156046 0.14971405 0.1503268  0.15196078 0.14726307 0.14501634\n",
      " 0.14603758 0.12479575 0.13112745 0.11397059 0.1190768  0.12377451\n",
      " 0.13562092 0.12908497 0.13459967 0.12806373 0.13031046 0.12724673\n",
      " 0.13521242 0.14522059 0.15257353 0.14848856 0.14338235 0.14562908\n",
      " 0.15236928 0.15400327 0.14971405 0.1621732  0.16319444 0.16584967\n",
      " 0.16858697 0.17120504 0.17352554 0.17568809 0.17771585 0.17962235\n",
      " 0.18142556 0.18314306 0.18478948 0.18637569 0.18790945 0.18939596\n",
      " 0.19083877 0.1922399  0.19360074 0.19492234 0.19620572 0.19745182\n",
      " 0.19866189 0.19983724 0.20097932 0.20208968 0.20316985 0.20422143\n",
      " 0.20524567 0.2062439  0.20721728 0.20816666]\n",
      "28 day output [[0.20909297]]\n",
      "29 day input [0.19607843 0.18913399 0.18954248 0.19403595 0.19444444 0.20200163\n",
      " 0.19771242 0.19934641 0.19873366 0.1997549  0.2128268  0.21568627\n",
      " 0.20445261 0.21772876 0.21098856 0.21425654 0.19750817 0.18811275\n",
      " 0.17851307 0.17381536 0.16033497 0.16564542 0.17116013 0.17422386\n",
      " 0.18035131 0.17401961 0.16278595 0.16973039 0.17810458 0.17034314\n",
      " 0.16830065 0.17279412 0.17544935 0.18382353 0.19138072 0.18913399\n",
      " 0.19097222 0.17238562 0.16830065 0.1693219  0.17177288 0.16156046\n",
      " 0.14971405 0.1503268  0.15196078 0.14726307 0.14501634 0.14603758\n",
      " 0.12479575 0.13112745 0.11397059 0.1190768  0.12377451 0.13562092\n",
      " 0.12908497 0.13459967 0.12806373 0.13031046 0.12724673 0.13521242\n",
      " 0.14522059 0.15257353 0.14848856 0.14338235 0.14562908 0.15236928\n",
      " 0.15400327 0.14971405 0.1621732  0.16319444 0.16584967 0.16858697\n",
      " 0.17120504 0.17352554 0.17568809 0.17771585 0.17962235 0.18142556\n",
      " 0.18314306 0.18478948 0.18637569 0.18790945 0.18939596 0.19083877\n",
      " 0.1922399  0.19360074 0.19492234 0.19620572 0.19745182 0.19866189\n",
      " 0.19983724 0.20097932 0.20208968 0.20316985 0.20422143 0.20524567\n",
      " 0.2062439  0.20721728 0.20816666 0.20909297]\n",
      "29 day output [[0.20999685]]\n",
      "[[0.16858696937561035], [0.1712050437927246], [0.17352554202079773], [0.17568808794021606], [0.17771585285663605], [0.1796223521232605], [0.1814255565404892], [0.18314306437969208], [0.1847894787788391], [0.186375692486763], [0.18790945410728455], [0.1893959641456604], [0.1908387690782547], [0.1922398954629898], [0.19360074400901794], [0.1949223428964615], [0.1962057203054428], [0.19745181500911713], [0.1986618936061859], [0.19983723759651184], [0.2009793221950531], [0.20208968222141266], [0.20316985249519348], [0.2042214274406433], [0.20524567365646362], [0.20624390244483948], [0.207217276096344], [0.20816665887832642], [0.20909297466278076], [0.20999684929847717]]\n"
     ]
    }
   ],
   "source": [
    "lst_output=[]\n",
    "n_steps=100\n",
    "nextNumberOfDays = 30\n",
    "i=0\n",
    "\n",
    "while(i<nextNumberOfDays):\n",
    "\n",
    "  if(len(temp_input)>100):\n",
    "    x_input=np.array(temp_input[1:])\n",
    "    print(\"{} day input {}\".format(i,x_input))\n",
    "    x_input=x_input.reshape(1,-1)\n",
    "    x_input = x_input.reshape((1, n_steps, 1))\n",
    "    yhat = model.predict(x_input, verbose=0)\n",
    "    print(\"{} day output {}\".format(i,yhat))\n",
    "    temp_input.extend(yhat[0].tolist())\n",
    "    temp_input=temp_input[1:]\n",
    "    lst_output.extend(yhat.tolist())\n",
    "    i=i+1\n",
    "  else:\n",
    "    x_input = x_input.reshape((1, n_steps,1))\n",
    "    yhat = model.predict(x_input, verbose=0)\n",
    "    print(yhat[0])\n",
    "    temp_input.extend(yhat[0].tolist())\n",
    "    print(len(temp_input))\n",
    "    lst_output.extend(yhat.tolist())\n",
    "    i=i+1\n",
    "\n",
    "\n",
    "print(lst_output)\n",
    "\n"
   ]
  },
  {
   "cell_type": "code",
   "execution_count": 33,
   "metadata": {
    "id": "E34mhufoAxAG"
   },
   "outputs": [],
   "source": [
    "day_new = np.arange(1,101)\n",
    "day_pred = np.arange(101,131)"
   ]
  },
  {
   "cell_type": "code",
   "execution_count": 34,
   "metadata": {
    "id": "9Ov-_Nk3BGbY"
   },
   "outputs": [],
   "source": [
    "df3 = data_close.tolist()\n",
    "df3.extend(lst_output)"
   ]
  },
  {
   "cell_type": "markdown",
   "metadata": {},
   "source": [
    "### Plot of Next 30 Days of Stock Price"
   ]
  },
  {
   "cell_type": "code",
   "execution_count": 35,
   "metadata": {
    "colab": {
     "base_uri": "https://localhost:8080/",
     "height": 282
    },
    "id": "j5DFyYZtBbfX",
    "outputId": "006a1ef9-0408-4ec5-db89-236e2625d489"
   },
   "outputs": [
    {
     "data": {
      "text/plain": [
       "[<matplotlib.lines.Line2D at 0x7fcd4146c4d0>]"
      ]
     },
     "execution_count": 35,
     "metadata": {},
     "output_type": "execute_result"
    },
    {
     "data": {
      "image/png": "[encoded data removed]",
      "text/plain": [
       "<Figure size 432x288 with 1 Axes>"
      ]
     },
     "metadata": {
      "needs_background": "light"
     },
     "output_type": "display_data"
    }
   ],
   "source": [
    "plt.plot(day_new, scaler.inverse_transform(data_close[1935:]))\n",
    "plt.plot(day_pred, scaler.inverse_transform(lst_output))"
   ]
  },
  {
   "cell_type": "code",
   "execution_count": null,
   "metadata": {
    "id": "fos5Ag-2Bt4k"
   },
   "outputs": [],
   "source": []
  }
 ],
 "metadata": {
  "colab": {
   "collapsed_sections": [],
   "name": "Task 2 Stock Market Prediction and Forecasting Using Stacked LSTM.ipynb",
   "provenance": []
  },
  "kernelspec": {
   "display_name": "Python 3 (ipykernel)",
   "language": "python",
   "name": "python3"
  },
  "language_info": {
   "codemirror_mode": {
    "name": "ipython",
    "version": 3
   },
   "file_extension": ".py",
   "mimetype": "text/x-python",
   "name": "python",
   "nbconvert_exporter": "python",
   "pygments_lexer": "ipython3",
   "version": "3.9.7"
  }
 },
 "nbformat": 4,
 "nbformat_minor": 1
}
